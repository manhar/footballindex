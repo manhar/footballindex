{
 "cells": [
  {
   "cell_type": "code",
   "execution_count": null,
   "metadata": {
    "collapsed": false
   },
   "outputs": [],
   "source": [
    "%load_ext autoreload\n",
    "%autoreload 2\n",
    "\n",
    "import sys\n",
    "sys.path.insert(0, '../utilities')\n",
    "import add_subdir_to_path\n",
    "\n",
    "\n",
    "import numpy as np\n",
    "import pandas as pd\n",
    "\n",
    "from bokeh.layouts import gridplot\n",
    "from bokeh.plotting import figure, show, output_file, ColumnDataSource\n",
    "from collections import OrderedDict\n",
    "from mysql_populate_table import  getNewsPubDateByPlayer, getplayerscore\n",
    "from bokeh.models import Legend , HoverTool, Span\n",
    "from datetime import datetime\n",
    "import time\n",
    "\n",
    "#get  data for the last 120 minutes from the database\n",
    "hours_filter=24\n",
    "player_id=\"\"\n",
    "#team=\"man utd manchester united\"\n",
    "team=\" \"\n",
    "\n",
    "\n",
    "data=getplayerscore(player_id,hours_filter)\n",
    "news_date=getNewsPubDateByPlayer(player_id, team ,hours_filter )\n",
    "\n"
   ]
  },
  {
   "cell_type": "code",
   "execution_count": null,
   "metadata": {
    "collapsed": false
   },
   "outputs": [],
   "source": [
    "data.tail()\n",
    "distinct_player = getplayerscore(player_id,0.001)[:200]\n",
    "#p=data.groupby(\"player_id\")[\"date_id\", \"trend\"].max().sort_values(by=['date_id', 'trend'] , ascending=False)\n",
    "print(distinct_player) "
   ]
  },
  {
   "cell_type": "code",
   "execution_count": null,
   "metadata": {
    "collapsed": false
   },
   "outputs": [],
   "source": [
    "player_news=news_date[news_date['title'].str.contains('Romelu|Lukaku')]#[['pubdate', 'feed_name']]\n",
    "player_news['dt']= player_news.pubdate.dt.date\n",
    "player_news=player_news.sort_values(by='pubdate')\n",
    "player_news['news_cnt']=player_news.groupby('dt')['pubdate'].rank(method='first')\n",
    "player_news.tail()\n"
   ]
  },
  {
   "cell_type": "code",
   "execution_count": null,
   "metadata": {
    "collapsed": false
   },
   "outputs": [],
   "source": [
    "%matplotlib inline\n",
    "import matplotlib.pyplot as plt \n",
    "import matplotlib.dates as dates\n",
    "\n",
    "\n",
    "\n",
    "fig, ax1 = plt.subplots()\n",
    "\n",
    "for index, dt in np.ndenumerate(romelu.dt.unique()):\n",
    "    line=romelu[romelu.dt==dt]\n",
    "    ax1.plot(line.pubdate, line.news_cnt, color='G')\n",
    "    \n",
    "\n",
    "#ax1.plot(line1.pubdate, line1.news_cnt, color='G')\n",
    "#ax1.plot(line2.pubdate, line2.news_cnt, color='B')\n",
    "ax1.set_xlabel('time (s)')\n",
    "# Make the y-axis label, ticks and tick labels match the line color.\n",
    "ax1.set_ylabel('News cumsum', color='b')\n",
    "ax1.tick_params('y', colors='b')\n",
    "\n",
    "\n",
    "\n",
    "ax1.set_title('Cumulative count of news appearance over time')\n",
    "\n",
    "ax2 = ax1.twinx()\n",
    "ax2.plot(data.datetime_id, data.sprice, color='R')\n",
    "ax2.set_ylabel('S Price', color='r')\n",
    "ax2.tick_params('y', colors='r')\n",
    "\n",
    "fig.tight_layout()\n",
    "plt.show()\n",
    "\n",
    "\n"
   ]
  },
  {
   "cell_type": "code",
   "execution_count": null,
   "metadata": {
    "collapsed": true
   },
   "outputs": [],
   "source": []
  }
 ],
 "metadata": {
  "kernelspec": {
   "display_name": "Python 3",
   "language": "python",
   "name": "python3"
  },
  "language_info": {
   "codemirror_mode": {
    "name": "ipython",
    "version": 3
   },
   "file_extension": ".py",
   "mimetype": "text/x-python",
   "name": "python",
   "nbconvert_exporter": "python",
   "pygments_lexer": "ipython3",
   "version": "3.5.3"
  }
 },
 "nbformat": 4,
 "nbformat_minor": 2
}
