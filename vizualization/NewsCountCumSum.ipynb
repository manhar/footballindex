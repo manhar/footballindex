{
 "cells": [
  {
   "cell_type": "code",
   "execution_count": 45,
   "metadata": {
    "collapsed": false,
    "deletable": true,
    "editable": true
   },
   "outputs": [
    {
     "name": "stdout",
     "output_type": "stream",
     "text": [
      "The autoreload extension is already loaded. To reload it, use:\n",
      "  %reload_ext autoreload\n",
      "select hash_key, pubdate, title , feed_name\n",
      "        from f_daily_news n\n",
      "        where\n",
      "        pubdate >= '2017-08-16 21:08:12'\n"
     ]
    },
    {
     "data": {
      "text/html": [
       "<div>\n",
       "<table border=\"1\" class=\"dataframe\">\n",
       "  <thead>\n",
       "    <tr style=\"text-align: right;\">\n",
       "      <th></th>\n",
       "      <th>hash_key</th>\n",
       "      <th>pubdate</th>\n",
       "      <th>title</th>\n",
       "      <th>feed_name</th>\n",
       "    </tr>\n",
       "  </thead>\n",
       "  <tbody>\n",
       "    <tr>\n",
       "      <th>0</th>\n",
       "      <td>4cdcc01c7415ac326401a26245966c64</td>\n",
       "      <td>2017-08-16 21:10:00</td>\n",
       "      <td>Real Madrid v Barcelona LIVE updates: Bale ben...</td>\n",
       "      <td>DAILY_EXPRESS</td>\n",
       "    </tr>\n",
       "    <tr>\n",
       "      <th>1</th>\n",
       "      <td>5c6449835e57a5f77d625fef251e38da</td>\n",
       "      <td>2017-08-16 21:16:00</td>\n",
       "      <td>Real Madrid v Barcelona LIVE updates: Bale ben...</td>\n",
       "      <td>DAILY_EXPRESS</td>\n",
       "    </tr>\n",
       "    <tr>\n",
       "      <th>2</th>\n",
       "      <td>0253ef5ea195308039b83e2e6c505175</td>\n",
       "      <td>2017-08-16 21:17:00</td>\n",
       "      <td>Transfer News LIVE updates: Coutinho to Barca;...</td>\n",
       "      <td>DAILY_EXPRESS</td>\n",
       "    </tr>\n",
       "    <tr>\n",
       "      <th>3</th>\n",
       "      <td>792200496cd7eb7d2d23c4475a3c5ee5</td>\n",
       "      <td>2017-08-16 21:24:00</td>\n",
       "      <td>Real Madrid v Barcelona LIVE updates: Bale ben...</td>\n",
       "      <td>DAILY_EXPRESS</td>\n",
       "    </tr>\n",
       "    <tr>\n",
       "      <th>4</th>\n",
       "      <td>cb28a7552d0e071525aef912dcdea302</td>\n",
       "      <td>2017-08-16 21:25:00</td>\n",
       "      <td>Real Madrid v Barcelona LIVE updates: Bale ben...</td>\n",
       "      <td>DAILY_EXPRESS</td>\n",
       "    </tr>\n",
       "  </tbody>\n",
       "</table>\n",
       "</div>"
      ],
      "text/plain": [
       "                           hash_key             pubdate  \\\n",
       "0  4cdcc01c7415ac326401a26245966c64 2017-08-16 21:10:00   \n",
       "1  5c6449835e57a5f77d625fef251e38da 2017-08-16 21:16:00   \n",
       "2  0253ef5ea195308039b83e2e6c505175 2017-08-16 21:17:00   \n",
       "3  792200496cd7eb7d2d23c4475a3c5ee5 2017-08-16 21:24:00   \n",
       "4  cb28a7552d0e071525aef912dcdea302 2017-08-16 21:25:00   \n",
       "\n",
       "                                               title      feed_name  \n",
       "0  Real Madrid v Barcelona LIVE updates: Bale ben...  DAILY_EXPRESS  \n",
       "1  Real Madrid v Barcelona LIVE updates: Bale ben...  DAILY_EXPRESS  \n",
       "2  Transfer News LIVE updates: Coutinho to Barca;...  DAILY_EXPRESS  \n",
       "3  Real Madrid v Barcelona LIVE updates: Bale ben...  DAILY_EXPRESS  \n",
       "4  Real Madrid v Barcelona LIVE updates: Bale ben...  DAILY_EXPRESS  "
      ]
     },
     "execution_count": 45,
     "metadata": {},
     "output_type": "execute_result"
    }
   ],
   "source": [
    "%load_ext autoreload\n",
    "%autoreload 2\n",
    "\n",
    "import sys\n",
    "sys.path.insert(0, '../utilities')\n",
    "import add_subdir_to_path\n",
    "\n",
    "\n",
    "import numpy as np\n",
    "import pandas as pd\n",
    "\n",
    "from bokeh.layouts import gridplot\n",
    "from bokeh.plotting import figure, show, output_file, ColumnDataSource\n",
    "from collections import OrderedDict\n",
    "from mysql_populate_table import  getNewsPubDateByPlayer, getplayerscore\n",
    "from bokeh.models import Legend , HoverTool, Span\n",
    "from datetime import datetime\n",
    "import time\n",
    "\n",
    "#get  data for the last 120 minutes from the database\n",
    "hours_filter=24\n",
    "player_id=\"\"\n",
    "#team=\"man utd manchester united\"\n",
    "team=\"\"\n",
    "\n",
    "\n",
    "data=getplayerscore(player_id,hours_filter)\n",
    "news_date=getNewsPubDateByPlayer(player_id, team ,hours_filter )\n",
    "news_date['pubdate_ft']=news_date.pubdate.dt.strftime('%Y%m%d')\n",
    "\n"
   ]
  },
  {
   "cell_type": "code",
   "execution_count": 67,
   "metadata": {
    "collapsed": false,
    "deletable": true,
    "editable": true
   },
   "outputs": [],
   "source": [
    "#data.tail()\n",
    "distinct_player = getplayerscore(player_id,0.001)[:200]\n",
    "#p=data.groupby(\"player_id\")[\"date_id\", \"trend\"].max().sort_values(by=['date_id', 'trend'] , ascending=False)\n",
    "\n",
    "#distinct_player['news_cnt']= len(news_date[news_date['title'].str.contains('Romelu|Lukaku')].index)\n",
    "\n",
    " \n",
    "\n",
    "\n"
   ]
  },
  {
   "cell_type": "code",
   "execution_count": 89,
   "metadata": {
    "collapsed": false,
    "deletable": true,
    "editable": true
   },
   "outputs": [
    {
     "name": "stderr",
     "output_type": "stream",
     "text": [
      "/anaconda/lib/python3.5/site-packages/ipykernel/__main__.py:9: SettingWithCopyWarning: \n",
      "A value is trying to be set on a copy of a slice from a DataFrame.\n",
      "Try using .loc[row_indexer,col_indexer] = value instead\n",
      "\n",
      "See the caveats in the documentation: http://pandas.pydata.org/pandas-docs/stable/indexing.html#indexing-view-versus-copy\n",
      "/anaconda/lib/python3.5/site-packages/ipykernel/__main__.py:10: SettingWithCopyWarning: \n",
      "A value is trying to be set on a copy of a slice from a DataFrame.\n",
      "Try using .loc[row_indexer,col_indexer] = value instead\n",
      "\n",
      "See the caveats in the documentation: http://pandas.pydata.org/pandas-docs/stable/indexing.html#indexing-view-versus-copy\n"
     ]
    },
    {
     "data": {
      "text/html": [
       "<div>\n",
       "<table border=\"1\" class=\"dataframe\">\n",
       "  <thead>\n",
       "    <tr style=\"text-align: right;\">\n",
       "      <th></th>\n",
       "      <th>index</th>\n",
       "      <th>player</th>\n",
       "      <th>dt</th>\n",
       "      <th>news_cnt</th>\n",
       "    </tr>\n",
       "  </thead>\n",
       "  <tbody>\n",
       "    <tr>\n",
       "      <th>0</th>\n",
       "      <td>766</td>\n",
       "      <td>romelu-lukaku</td>\n",
       "      <td>2017-08-17</td>\n",
       "      <td>2.0</td>\n",
       "    </tr>\n",
       "    <tr>\n",
       "      <th>1</th>\n",
       "      <td>831</td>\n",
       "      <td>harry-kane</td>\n",
       "      <td>2017-08-17</td>\n",
       "      <td>1.0</td>\n",
       "    </tr>\n",
       "    <tr>\n",
       "      <th>2</th>\n",
       "      <td>52</td>\n",
       "      <td>alexis-sanchez</td>\n",
       "      <td>2017-08-16</td>\n",
       "      <td>32.0</td>\n",
       "    </tr>\n",
       "    <tr>\n",
       "      <th>3</th>\n",
       "      <td>206</td>\n",
       "      <td>alexis-sanchez</td>\n",
       "      <td>2017-08-17</td>\n",
       "      <td>32.0</td>\n",
       "    </tr>\n",
       "    <tr>\n",
       "      <th>4</th>\n",
       "      <td>167</td>\n",
       "      <td>neymar</td>\n",
       "      <td>2017-08-16</td>\n",
       "      <td>18.0</td>\n",
       "    </tr>\n",
       "  </tbody>\n",
       "</table>\n",
       "</div>"
      ],
      "text/plain": [
       "   index          player          dt  news_cnt\n",
       "0    766   romelu-lukaku  2017-08-17       2.0\n",
       "1    831      harry-kane  2017-08-17       1.0\n",
       "2     52  alexis-sanchez  2017-08-16      32.0\n",
       "3    206  alexis-sanchez  2017-08-17      32.0\n",
       "4    167          neymar  2017-08-16      18.0"
      ]
     },
     "execution_count": 89,
     "metadata": {},
     "output_type": "execute_result"
    }
   ],
   "source": [
    "#player_news=pd.DataFrame(columns=['hash_key', 'pubdate', 'title', 'feed_name', 'player', 'dt', 'news_cnt'])\n",
    "player_news=pd.DataFrame(columns=[  'player', 'dt', 'news_cnt'])\n",
    "\n",
    "for i, v in distinct_player.iterrows():\n",
    "    search_str=v.player_name.replace(\" \", \"|\")\n",
    "    new_df=pd.DataFrame()\n",
    "    new_df=news_date[news_date['title'].str.contains(search_str)]\n",
    "    if  not new_df.empty:\n",
    "        new_df[\"player\"]=v.player_id\n",
    "        new_df[\"dt\"]= new_df.pubdate.dt.date\n",
    "        new_df=new_df.sort_values(by='pubdate')\n",
    "        new_df[\"news_cnt\"]=new_df.groupby(['dt','player'])['pubdate'].rank(method='first').max()\n",
    "        #new_df[\"news_cnt\"]=new_df.groupby(['dt','player']).agg(['count'])\n",
    "        player_news=pd.concat([player_news,new_df[['player', 'dt', 'news_cnt']].drop_duplicates(keep='first')])\n",
    "\n",
    "#new_df.head()  \n",
    "player_news.reset_index(inplace=True)\n",
    "player_news.head()\n",
    "        "
   ]
  },
  {
   "cell_type": "code",
   "execution_count": 119,
   "metadata": {
    "collapsed": false,
    "deletable": true,
    "editable": true
   },
   "outputs": [
    {
     "data": {
      "text/plain": [
       "date_id   player_id    \n",
       "20170816  romelu-lukaku    0.000000\n",
       "20170817  romelu-lukaku    0.001443\n",
       "Name: pct_change, dtype: float64"
      ]
     },
     "execution_count": 119,
     "metadata": {},
     "output_type": "execute_result"
    }
   ],
   "source": [
    "x=pd.DataFrame.copy(data)\n",
    "x['pct_change']= x['bprice'].pct_change(1)\n",
    "x.head()\n",
    "x.groupby(['date_id', 'player_id'])['pct_change'].max().head()\n",
    "#pd.pivot_table(data[['date_id', 'player_id', 'bprice']], values='bprice', index=['date_id', 'player_id'],\n",
    "#            columns=['bprice'], aggfunc=np.min)\n",
    "\n",
    "\n",
    "\n",
    "\n"
   ]
  },
  {
   "cell_type": "code",
   "execution_count": 6,
   "metadata": {
    "collapsed": false,
    "deletable": true,
    "editable": true
   },
   "outputs": [
    {
     "data": {
      "image/png": "[encoded data removed]",
      "text/plain": [
       "<matplotlib.figure.Figure at 0x10be17860>"
      ]
     },
     "metadata": {},
     "output_type": "display_data"
    }
   ],
   "source": [
    "%matplotlib inline\n",
    "import matplotlib.pyplot as plt \n",
    "import matplotlib.dates as dates\n",
    "plt.figure(); ser.plot();"
   ]
  },
  {
   "cell_type": "code",
   "execution_count": 49,
   "metadata": {
    "collapsed": false
   },
   "outputs": [
    {
     "data": {
      "text/html": [
       "<div>\n",
       "<table border=\"1\" class=\"dataframe\">\n",
       "  <thead>\n",
       "    <tr style=\"text-align: right;\">\n",
       "      <th></th>\n",
       "      <th>hash_key</th>\n",
       "      <th>pubdate</th>\n",
       "      <th>title</th>\n",
       "      <th>feed_name</th>\n",
       "      <th>pubdate_ft</th>\n",
       "    </tr>\n",
       "  </thead>\n",
       "  <tbody>\n",
       "    <tr>\n",
       "      <th>0</th>\n",
       "      <td>4cdcc01c7415ac326401a26245966c64</td>\n",
       "      <td>2017-08-16 21:10:00</td>\n",
       "      <td>Real Madrid v Barcelona LIVE updates: Bale ben...</td>\n",
       "      <td>DAILY_EXPRESS</td>\n",
       "      <td>20170816</td>\n",
       "    </tr>\n",
       "    <tr>\n",
       "      <th>1</th>\n",
       "      <td>5c6449835e57a5f77d625fef251e38da</td>\n",
       "      <td>2017-08-16 21:16:00</td>\n",
       "      <td>Real Madrid v Barcelona LIVE updates: Bale ben...</td>\n",
       "      <td>DAILY_EXPRESS</td>\n",
       "      <td>20170816</td>\n",
       "    </tr>\n",
       "    <tr>\n",
       "      <th>2</th>\n",
       "      <td>0253ef5ea195308039b83e2e6c505175</td>\n",
       "      <td>2017-08-16 21:17:00</td>\n",
       "      <td>Transfer News LIVE updates: Coutinho to Barca;...</td>\n",
       "      <td>DAILY_EXPRESS</td>\n",
       "      <td>20170816</td>\n",
       "    </tr>\n",
       "    <tr>\n",
       "      <th>3</th>\n",
       "      <td>792200496cd7eb7d2d23c4475a3c5ee5</td>\n",
       "      <td>2017-08-16 21:24:00</td>\n",
       "      <td>Real Madrid v Barcelona LIVE updates: Bale ben...</td>\n",
       "      <td>DAILY_EXPRESS</td>\n",
       "      <td>20170816</td>\n",
       "    </tr>\n",
       "    <tr>\n",
       "      <th>4</th>\n",
       "      <td>cb28a7552d0e071525aef912dcdea302</td>\n",
       "      <td>2017-08-16 21:25:00</td>\n",
       "      <td>Real Madrid v Barcelona LIVE updates: Bale ben...</td>\n",
       "      <td>DAILY_EXPRESS</td>\n",
       "      <td>20170816</td>\n",
       "    </tr>\n",
       "  </tbody>\n",
       "</table>\n",
       "</div>"
      ],
      "text/plain": [
       "                           hash_key             pubdate  \\\n",
       "0  4cdcc01c7415ac326401a26245966c64 2017-08-16 21:10:00   \n",
       "1  5c6449835e57a5f77d625fef251e38da 2017-08-16 21:16:00   \n",
       "2  0253ef5ea195308039b83e2e6c505175 2017-08-16 21:17:00   \n",
       "3  792200496cd7eb7d2d23c4475a3c5ee5 2017-08-16 21:24:00   \n",
       "4  cb28a7552d0e071525aef912dcdea302 2017-08-16 21:25:00   \n",
       "\n",
       "                                               title      feed_name pubdate_ft  \n",
       "0  Real Madrid v Barcelona LIVE updates: Bale ben...  DAILY_EXPRESS   20170816  \n",
       "1  Real Madrid v Barcelona LIVE updates: Bale ben...  DAILY_EXPRESS   20170816  \n",
       "2  Transfer News LIVE updates: Coutinho to Barca;...  DAILY_EXPRESS   20170816  \n",
       "3  Real Madrid v Barcelona LIVE updates: Bale ben...  DAILY_EXPRESS   20170816  \n",
       "4  Real Madrid v Barcelona LIVE updates: Bale ben...  DAILY_EXPRESS   20170816  "
      ]
     },
     "execution_count": 49,
     "metadata": {},
     "output_type": "execute_result"
    }
   ],
   "source": [
    "\n",
    "news_date.head()"
   ]
  },
  {
   "cell_type": "raw",
   "metadata": {
    "deletable": true,
    "editable": true
   },
   "source": [
    "player_news=news_date[news_date['title'].str.contains('Romelu|Lukaku')]#[['pubdate', 'feed_name']]\n",
    "player_news['dt']= player_news.pubdate.dt.date\n",
    "player_news=player_news.sort_values(by='pubdate')\n",
    "player_news['news_cnt']=player_news.groupby('dt')['pubdate'].rank(method='first')\n",
    "player_news.tail()\n"
   ]
  },
  {
   "cell_type": "code",
   "execution_count": null,
   "metadata": {
    "collapsed": false,
    "deletable": true,
    "editable": true
   },
   "outputs": [],
   "source": [
    "%matplotlib inline\n",
    "import matplotlib.pyplot as plt \n",
    "import matplotlib.dates as dates\n",
    "\n",
    "\n",
    "\n",
    "fig, ax1 = plt.subplots()\n",
    "\n",
    "for index, dt in np.ndenumerate(romelu.dt.unique()):\n",
    "    line=romelu[romelu.dt==dt]\n",
    "    ax1.plot(line.pubdate, line.news_cnt, color='G')\n",
    "    \n",
    "\n",
    "#ax1.plot(line1.pubdate, line1.news_cnt, color='G')\n",
    "#ax1.plot(line2.pubdate, line2.news_cnt, color='B')\n",
    "ax1.set_xlabel('time (s)')\n",
    "# Make the y-axis label, ticks and tick labels match the line color.\n",
    "ax1.set_ylabel('News cumsum', color='b')\n",
    "ax1.tick_params('y', colors='b')\n",
    "\n",
    "\n",
    "\n",
    "ax1.set_title('Cumulative count of news appearance over time')\n",
    "\n",
    "ax2 = ax1.twinx()\n",
    "ax2.plot(data.datetime_id, data.sprice, color='R')\n",
    "ax2.set_ylabel('S Price', color='r')\n",
    "ax2.tick_params('y', colors='r')\n",
    "\n",
    "fig.tight_layout()\n",
    "plt.show()\n",
    "\n",
    "\n"
   ]
  },
  {
   "cell_type": "code",
   "execution_count": 36,
   "metadata": {
    "collapsed": false,
    "deletable": true,
    "editable": true
   },
   "outputs": [],
   "source": [
    "import pandas as pd\n",
    "df = pd.DataFrame([[1, 2], [3, 4]], columns=list('AB'))\n",
    "df2 = pd.DataFrame([[5, 6], [7, 8]], columns=list('AB'))\n",
    "\n",
    "df =pd.concat([df, df2])\n",
    "\n",
    "df\n"
   ]
  },
  {
   "cell_type": "code",
   "execution_count": 41,
   "metadata": {
    "collapsed": false,
    "deletable": true,
    "editable": true
   },
   "outputs": [
    {
     "data": {
      "text/html": [
       "<div>\n",
       "<table border=\"1\" class=\"dataframe\">\n",
       "  <thead>\n",
       "    <tr style=\"text-align: right;\">\n",
       "      <th></th>\n",
       "      <th>A</th>\n",
       "      <th>B</th>\n",
       "    </tr>\n",
       "  </thead>\n",
       "  <tbody>\n",
       "    <tr>\n",
       "      <th>0</th>\n",
       "      <td>1</td>\n",
       "      <td>2</td>\n",
       "    </tr>\n",
       "    <tr>\n",
       "      <th>1</th>\n",
       "      <td>3</td>\n",
       "      <td>4</td>\n",
       "    </tr>\n",
       "    <tr>\n",
       "      <th>0</th>\n",
       "      <td>5</td>\n",
       "      <td>6</td>\n",
       "    </tr>\n",
       "    <tr>\n",
       "      <th>1</th>\n",
       "      <td>7</td>\n",
       "      <td>8</td>\n",
       "    </tr>\n",
       "  </tbody>\n",
       "</table>\n",
       "</div>"
      ],
      "text/plain": [
       "   A  B\n",
       "0  1  2\n",
       "1  3  4\n",
       "0  5  6\n",
       "1  7  8"
      ]
     },
     "execution_count": 41,
     "metadata": {},
     "output_type": "execute_result"
    }
   ],
   "source": [
    "df[['A','B']]"
   ]
  },
  {
   "cell_type": "code",
   "execution_count": null,
   "metadata": {
    "collapsed": true,
    "deletable": true,
    "editable": true
   },
   "outputs": [],
   "source": []
  }
 ],
 "metadata": {
  "kernelspec": {
   "display_name": "Python 3",
   "language": "python",
   "name": "python3"
  },
  "language_info": {
   "codemirror_mode": {
    "name": "ipython",
    "version": 3
   },
   "file_extension": ".py",
   "mimetype": "text/x-python",
   "name": "python",
   "nbconvert_exporter": "python",
   "pygments_lexer": "ipython3",
   "version": "3.5.3"
  }
 },
 "nbformat": 4,
 "nbformat_minor": 2
}
