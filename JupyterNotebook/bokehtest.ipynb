{
 "cells": [
  {
   "cell_type": "code",
   "execution_count": 1,
   "metadata": {
    "collapsed": false,
    "deletable": true,
    "editable": true
   },
   "outputs": [],
   "source": [
    "from bokeh.plotting import figure, output_file, show\n",
    "import datetime\n",
    "numdays=5\n",
    "base = datetime.datetime.today()\n",
    "date_list = [base - datetime.timedelta(days=x) for x in range(0, numdays)]\n",
    "\n",
    "\n",
    "p = figure(title=\"line\", plot_width=700, plot_height=900 , x_axis_type=\"datetime\")\n",
    "r=p.line(x=[],y=[])\n",
    "ds=r.data_source\n",
    "my_dic=dict()\n",
    "my_dic['y']= [1, 2, 3, 4, 5]\n",
    "my_dic['x']=date_list\n",
    "ds=my_dic\n",
    "#p.line(y=[1, 2, 3, 4, 5], x= date_list)\n",
    "\n",
    "show(p)"
   ]
  },
  {
   "cell_type": "code",
   "execution_count": 2,
   "metadata": {
    "collapsed": false,
    "deletable": true,
    "editable": true
   },
   "outputs": [],
   "source": [
    "colors_list = ['blue', 'yellow']\n",
    "legends_list = ['first', 'second']\n",
    "xs=[[4, 2, 5], [1, 3, 4]]\n",
    "ys=[[6, 5, 2], [6, 5, 7]]\n",
    "\n",
    "p = figure(plot_width=500, plot_height=500)\n",
    "\n",
    "for (colr, leg, x, y ) in zip(colors_list, legends_list, xs, ys):\n",
    "    my_plot = p.line(x, y, color= colr, legend= leg)\n",
    "\n",
    "show(p)"
   ]
  },
  {
   "cell_type": "code",
   "execution_count": 2,
   "metadata": {
    "collapsed": false,
    "deletable": true,
    "editable": true
   },
   "outputs": [],
   "source": [
    "from bokeh.events import ButtonClick\n",
    "from bokeh.models import Button\n",
    "\n",
    "button = Button()\n",
    "\n",
    "def callback(event):\n",
    "    print('Python:Click')\n",
    "\n",
    "button.on_event(ButtonClick, callback)"
   ]
  },
  {
   "cell_type": "code",
   "execution_count": 34,
   "metadata": {
    "collapsed": false,
    "deletable": true,
    "editable": true
   },
   "outputs": [
    {
     "data": {
      "text/plain": [
       "[1, 2]"
      ]
     },
     "execution_count": 34,
     "metadata": {},
     "output_type": "execute_result"
    }
   ],
   "source": [
    "ls = [1,2,3,4,5]\n",
    "ls[0:2]"
   ]
  },
  {
   "cell_type": "code",
   "execution_count": null,
   "metadata": {
    "collapsed": false,
    "deletable": true,
    "editable": true
   },
   "outputs": [],
   "source": [
    "print(\"p\")"
   ]
  },
  {
   "cell_type": "code",
   "execution_count": null,
   "metadata": {
    "collapsed": true,
    "deletable": true,
    "editable": true
   },
   "outputs": [],
   "source": []
  }
 ],
 "metadata": {
  "kernelspec": {
   "display_name": "Python 3",
   "language": "python",
   "name": "python3"
  },
  "language_info": {
   "codemirror_mode": {
    "name": "ipython",
    "version": 3
   },
   "file_extension": ".py",
   "mimetype": "text/x-python",
   "name": "python",
   "nbconvert_exporter": "python",
   "pygments_lexer": "ipython3",
   "version": "3.5.3"
  }
 },
 "nbformat": 4,
 "nbformat_minor": 2
}
